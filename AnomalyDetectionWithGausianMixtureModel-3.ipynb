{
 "cells": [
  {
   "cell_type": "markdown",
   "metadata": {},
   "source": [
    "# Anomaly Detection with Gaussian Mixture Model - Part 3\n",
    "\n",
    "In the previous part we tried to come up with a learning curve for our model in order to be able to choose the best parameters. \n",
    "\n",
    "In this part we'll stand on the shoulders of giants and use BIC (Bayesian Information Criterion) to guide us in selecting the best model."
   ]
  },
  {
   "cell_type": "code",
   "execution_count": 23,
   "metadata": {
    "collapsed": false
   },
   "outputs": [
    {
     "name": "stdout",
     "output_type": "stream",
     "text": [
      "Populating the interactive namespace from numpy and matplotlib\n"
     ]
    }
   ],
   "source": [
    "import numpy as np\n",
    "import sklearn as sk\n",
    "from sklearn import mixture\n",
    "import pandas as pd\n",
    "%pylab inline\n",
    "\n",
    "pd.set_option('display.mpl_style', 'default')\n",
    "plt.rcParams[\"figure.figsize\"] = (18,4)\n"
   ]
  },
  {
   "cell_type": "code",
   "execution_count": 24,
   "metadata": {
    "collapsed": false
   },
   "outputs": [
    {
     "name": "stdout",
     "output_type": "stream",
     "text": [
      "model = GMM(covariance_type='full', init_params='wmc', min_covar=0.001,\n",
      "  n_components=3, n_init=1, n_iter=100, params='wmc', random_state=None,\n",
      "  thresh=None, tol=0.001, verbose=0)\n",
      "bic = 6918.36434336\n"
     ]
    }
   ],
   "source": [
    "def get_train_data(data_size):\n",
    "    m=data_size/5\n",
    "    df1 = pd.DataFrame(random.randn(m,2)-20, columns=['x','y'])\n",
    "    df2 = pd.DataFrame(random.randn(m*2,2)-10, columns=['x','y'])\n",
    "    df2.y=-df2.x*3-10 + random.randn(m*2)*2    \n",
    "    df3 = pd.DataFrame(random.randn(m,2), columns=['x','y'])\n",
    "    df3.y=df3.x*2-10 + random.randn(m)\n",
    "    return df1.append(df2).append(df3)\n",
    "    \n",
    "def train_anomaly_model(df, n_components=3, cov_type='full'):\n",
    "    model = mixture.GMM(n_components, covariance_type=cov_type)\n",
    "    model.fit(df[['x','y']])\n",
    "    return model\n",
    "\n",
    "def find_anomaly_limit(df, model, n_falsePositives):\n",
    "    scores=model.score(df[['x','y']])\n",
    "\n",
    "    percentile=100*(n_falsePositives / len(scores))\n",
    "\n",
    "    return np.percentile(np.exp(scores),percentile)\n",
    "\n",
    "def choose_best_model(df):    \n",
    "    (min_bic,min_model) = (1e100, 'unknown')\n",
    "    for n_components in np.arange(5)+1:\n",
    "        for cov_type in ['spherical', 'tied', 'diag', 'full']:\n",
    "            model = train_anomaly_model(df, n_components, cov_type)        \n",
    "            bic = model.bic(df)\n",
    "            if (bic < min_bic):\n",
    "                (min_bic,min_model) = (bic, model)\n",
    "    return min_bic, min_model\n",
    "\n",
    "df = get_train_data(1000)\n",
    "bic, model = choose_best_model(df)\n",
    "print 'model = {}\\nbic = {}'.format(model, bic)\n"
   ]
  },
  {
   "cell_type": "markdown",
   "metadata": {},
   "source": [
    "Rather reassuringly the same parameters (3, full) were selected as in the previous part.\n",
    "\n",
    "Great."
   ]
  }
 ],
 "metadata": {
  "kernelspec": {
   "display_name": "Python 2",
   "language": "python",
   "name": "python2"
  },
  "language_info": {
   "codemirror_mode": {
    "name": "ipython",
    "version": 2
   },
   "file_extension": ".py",
   "mimetype": "text/x-python",
   "name": "python",
   "nbconvert_exporter": "python",
   "pygments_lexer": "ipython2",
   "version": "2.7.10"
  }
 },
 "nbformat": 4,
 "nbformat_minor": 0
}
