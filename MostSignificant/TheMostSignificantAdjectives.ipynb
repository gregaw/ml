{
 "cells": [
  {
   "cell_type": "markdown",
   "metadata": {},
   "source": [
    "# The most significant adjectives for men / women\n",
    "\n",
    "__What's the difference in describing men and women?__\n",
    "\n",
    "And in more technical terms: \n",
    "\n",
    "__What are the most significant adjectives used with the word 'man' as opposed to the word 'woman'?__\n",
    "\n",
    "\n",
    "The general approach would be:\n",
    "- use the standard NLTK corpora representing free text (eg gutenberg, brown, webtext)\n",
    "- count the occurences of every word preceding 'man' or 'woman' (let's call them adjectives)\n",
    "- sort by the 'most significant' adjective, that is one that is most 'uncommonly common' for a given category - man or woman\n",
    "- show them\n",
    "\n",
    "## Technologies\n",
    "- **NLTK** for NLP\n",
    "- **pandas** for 'most-significant' calculations"
   ]
  },
  {
   "cell_type": "code",
   "execution_count": 7,
   "metadata": {
    "collapsed": false
   },
   "outputs": [],
   "source": [
    "import nltk\n",
    "from nltk.corpus import stopwords\n",
    "stopwords = set(stopwords.words('english'))\n",
    "import pandas as pd\n",
    "\n",
    "def most_common_adj(corpus, word, limit=10, min_freq=3):\n",
    "    # bigrams ending with word\n",
    "    bigrams = nltk.bigrams(corpus.words())\n",
    "    adjectives = [x.lower() for x,y in list(bigrams) if y==word]\n",
    "    fd = nltk.FreqDist([w for w in adjectives if len(w)>2 and w not in stopwords])\n",
    "    return [ (word, freq) for word,freq in fd.most_common(limit) if freq >= min_freq ]\n",
    "\n",
    "\n",
    "def most_significant(groups, limit=10):\n",
    "    \"\"\" Sorts adjectives in each group with most significant for the group first\n",
    "    \n",
    "        most significant means occurring in the group more often than in the whole corpus\n",
    "        significance ranges from [0 to 1], 1 meaning that the adjective doesn't exist anywhere else but in this group\n",
    "        NOTE: if two words have the same significance then the one occurring more often is more significant\n",
    "    \"\"\"\n",
    "    dfs = [pd.DataFrame(group, columns=['word', 'counts']) for group in groups]\n",
    "    dfs = [df.set_index('word') for df in dfs]\n",
    "    \n",
    "    #     adjustment is required to remove bias caused by some groups being more populous\n",
    "    biggest_count = max([sum(df.counts) for df in dfs])\n",
    "    dfs = [df*biggest_count/sum(df.counts) for df in dfs]\n",
    "    \n",
    "    total = reduce(lambda x,y: x.add(y, fill_value=0), dfs)\n",
    "    for df in dfs:\n",
    "        df['ratio'] = df/total\n",
    "        \n",
    "    sigs = [df.dropna().to_records().tolist() for df in dfs]\n",
    "    sorted_sigs = [ sorted(sig, key=lambda x: (x[2],x[1]), reverse=True) for sig in sigs ]\n",
    "    return [ sig[:limit] for sig in sorted_sigs ]\n",
    "    \n",
    "def show_most_significant(words, corpuses, adj_limit=1000, min_adj_freq=3, sig_adj_limit=100):\n",
    "    most_common = [[most_common_adj(corpus, word, limit=adj_limit, min_freq=min_adj_freq) for word in words] for corpus in corpuses]\n",
    "\n",
    "    # print [[word_counts[:10] for word_counts in corpus] for corpus in most_common]\n",
    "\n",
    "    for corpus, corpus_most_common in zip(corpuses, most_common):\n",
    "        print \"\\n-------------------------------------\\n{}\\n-------------------------------------\\n\".format(corpus.readme().split('\\n')[0])\n",
    "        for word, word_most_significant in zip(words, most_significant(corpus_most_common, limit=sig_adj_limit)):\n",
    "    #         print \"\\n{}: -------------\\n{}\".format(word, word_most_significant)\n",
    "                print \"\\n{}: -------------\\n{}\".format(word, \",\".join(map(lambda x: x[0], word_most_significant)))\n"
   ]
  },
  {
   "cell_type": "code",
   "execution_count": 6,
   "metadata": {
    "collapsed": false
   },
   "outputs": [
    {
     "name": "stdout",
     "output_type": "stream",
     "text": [
      "\n",
      "-------------------------------------\n",
      "Project Gutenberg Selections\n",
      "-------------------------------------\n",
      "\n",
      "\n",
      "man: -------------\n",
      "little,mighty,wicked,rich,great,righteous,sensible,honest,blind,lazy,first,mortal,white,upon,euery,strong,tall,prudent,honourable,evil,dead,valiant,married,foolish,agreeable,never,ordinary,grey,last,violent,elderly,upright,slothful,small,brave,third,drunken,industrious,neither,thou,hearted,without,unto,big,happy,made,average,single,faithful,whatsoever,large,new,hairy,clever,known,perfect,better,haired,free,created,bad,like,lean,wayfaring,mean,sick,excellent,bloody,armed,crazy,lame,short,furious,inward,unhappy,happiest,dumb,best,faced,yet,tempered,respectable,fellow,impatient,every,one,wise,another,good,young,looking,certain,old,poor,natured,strange\n",
      "\n",
      "woman: -------------\n",
      "lovely,charming,widow,fine,virtuous,midianitish,beautiful,israelitish,amiable,strange,natured,poor,old,certain,looking,young,good,another,wise,one,every\n",
      "\n",
      "-------------------------------------\n",
      "BROWN CORPUS\n",
      "-------------------------------------\n",
      "\n",
      "\n",
      "man: -------------\n",
      "one,big,fat,good,little,white,common,dead,thin,middle-aged,insurance,business,great,honest,small,best,learned,blind,station,tall,waspish,third,young,old,every,another\n",
      "\n",
      "woman: -------------\n",
      "strange,another,every,old,young\n",
      "\n",
      "-------------------------------------\n",
      "Web Text Corpus\n",
      "-------------------------------------\n",
      "\n",
      "\n",
      "man: -------------\n",
      "hey,blind,yeah,good,vendor,homeless,american,every,large,yarmulke,shit,nah,white,old,older,crazy,black,ghetto,tourist,young,italian,aged,southern\n",
      "\n",
      "woman: -------------\n",
      "drunk,island,british,yuppie,younger,asian,elderly,sober,jappy,french,pregnant,thirtysomething,southern,aged,italian,young,tourist,ghetto,black,crazy,older,old,white\n"
     ]
    }
   ],
   "source": [
    "        \n",
    "show_most_significant(\n",
    "    words = [\"man\", \"woman\"],\n",
    "    corpuses = [nltk.corpus.gutenberg\n",
    "            , nltk.corpus.brown, nltk.corpus.webtext\n",
    "           ],\n",
    "    sig_adj_limit=100\n",
    ")\n"
   ]
  },
  {
   "cell_type": "markdown",
   "metadata": {},
   "source": [
    "# Polish corpus - NKJP\n",
    "\n",
    "NKJP requires some manual installs and is veeery slow. Needs some more work..."
   ]
  },
  {
   "cell_type": "code",
   "execution_count": 14,
   "metadata": {
    "collapsed": false
   },
   "outputs": [
    {
     "data": {
      "text/plain": [
       "991834"
      ]
     },
     "execution_count": 14,
     "metadata": {},
     "output_type": "execute_result"
    }
   ],
   "source": [
    "# import nltk\n",
    "# from nltk.corpus.reader.nkjp import NKJPCorpusReader\n",
    "# x = NKJPCorpusReader(root='/Users/gregaw/nltk_data/corpora/NKJP/', fileids='') # obtain the whole corpus\n",
    "# len(x.words())\n",
    "# # show_most_significant(\n",
    "# #     words = [\"mężczyzna\", \"kobieta\"],\n",
    "# #     corpuses = [nltk.corpus.nkjp\n",
    "# #            ],\n",
    "# #     sig_adj_limit=100\n",
    "# # )"
   ]
  }
 ],
 "metadata": {
  "kernelspec": {
   "display_name": "Python 2",
   "language": "python",
   "name": "python2"
  },
  "language_info": {
   "codemirror_mode": {
    "name": "ipython",
    "version": 2
   },
   "file_extension": ".py",
   "mimetype": "text/x-python",
   "name": "python",
   "nbconvert_exporter": "python",
   "pygments_lexer": "ipython2",
   "version": "2.7.10"
  }
 },
 "nbformat": 4,
 "nbformat_minor": 0
}
