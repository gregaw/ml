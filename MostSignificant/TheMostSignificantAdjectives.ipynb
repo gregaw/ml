{
 "cells": [
  {
   "cell_type": "markdown",
   "metadata": {},
   "source": [
    "# The most significant adjectives for men / women\n",
    "\n",
    "__What's the difference in describing men and women?__\n",
    "\n",
    "Which can be translated to more technical terms: \n",
    "\n",
    "__What are the most significant adjectives used with the word 'man' as opposed to the word 'woman'?__\n",
    "\n",
    "\n",
    "The general approach would be:\n",
    "- use the standard NLTK corpora representing free text (eg gutenberg, brown, webtext)\n",
    "- count the occurences of every word preceding 'man' or 'woman' (let's call them adjectives)\n",
    "- sort by the 'most significant' adjective, that is one that is most 'uncommonly common' for a given category - man or woman\n",
    "- show them\n",
    "\n",
    "## Technologies\n",
    "- **NLTK** for NLP\n",
    "- **pandas** for 'most-significant' calculations"
   ]
  },
  {
   "cell_type": "code",
   "execution_count": 110,
   "metadata": {
    "collapsed": false
   },
   "outputs": [
    {
     "name": "stdout",
     "output_type": "stream",
     "text": [
      "[[[(u'every', 327), (u'young', 266), (u'old', 207), (u'one', 72), (u'another', 42), (u'little', 38), (u'wise', 34), (u'certain', 33), (u'good', 31), (u'poor', 30)], [(u'old', 61), (u'young', 57), (u'every', 10), (u'strange', 9), (u'poor', 9), (u'certain', 8), (u'another', 7), (u'good', 6), (u'lovely', 6), (u'charming', 6)]], [[(u'old', 53), (u'young', 47), (u'one', 25), (u'big', 17), (u'fat', 11), (u'every', 10), (u'good', 9), (u'little', 9), (u'white', 8), (u'common', 7)], [(u'old', 13), (u'young', 11), (u'another', 5), (u'every', 3), (u'strange', 3), (u'one', 2), (u'pink', 2), (u'lonely', 2), (u'strong', 2), (u'american', 2)]], [[(u'old', 86), (u'black', 19), (u'white', 16), (u'young', 12), (u'hey', 10), (u'blind', 9), (u'yeah', 8), (u'tourist', 7), (u'good', 6), (u'vendor', 5)], [(u'old', 51), (u'black', 26), (u'young', 23), (u'tourist', 13), (u'southern', 12), (u'aged', 10), (u'white', 9), (u'drunk', 7), (u'italian', 6), (u'ghetto', 5)]]]\n"
     ]
    }
   ],
   "source": [
    "import nltk\n",
    "from nltk.corpus import stopwords\n",
    "stopwords = set(stopwords.words('english'))\n",
    "import pandas as pd\n",
    "\n",
    "def most_common_adj(corpus, word, count=10):\n",
    "    # bigrams ending with word\n",
    "    bigrams = nltk.bigrams(corpus.words())\n",
    "    fd = nltk.FreqDist([w for w in [x.lower() for x,y in list(bigrams) if y==word] if len(w)>2 and w not in stopwords])\n",
    "    return fd.most_common(count)\n",
    "    \n",
    "words = [\"man\", \"woman\"]\n",
    "corpuses = [nltk.corpus.gutenberg, nltk.corpus.brown, nltk.corpus.webtext]\n",
    "most_common = [[most_common_adj(corpus, word, count=1000) for word in words] for corpus in corpuses]\n",
    "\n",
    "print [[word_counts[:10] for word_counts in corpus] for corpus in most_common]"
   ]
  },
  {
   "cell_type": "code",
   "execution_count": 112,
   "metadata": {
    "collapsed": false
   },
   "outputs": [
    {
     "name": "stdout",
     "output_type": "stream",
     "text": [
      "\n",
      "-------------------------------------\n",
      "Project Gutenberg Selections\n",
      "-------------------------------------\n",
      "\n",
      "\n",
      "man: -------------\n",
      "mighty,righteous,honest,blind,lazy,first,white,euery,strong,tall,prudent,honourable,dead,valiant,never,grey,last,violent,upright,slothful,small,brave,third,drunken,industrious,neither,thou,without,unto,big,made,average,faithful,whatsoever,large,new,hairy,clever,known,perfect,haired,free,created,like,lean,wayfaring,mean,sick,bloody,armed,crazy,lame,short,furious,inward,unhappy,happiest,dumb,best,faced,yet,fellow,impatient,teneriffe,deceitful,minded,pious,spiritual,tired,public,holy,unjust,mad,chief,chosen,travelling,hard,absentminded,wronged,silent,gentlemanlike,austere,aged,impotent,though,astonished,nervous,black,lucky,crooked,monstrous,fearless,devout,slain,goodly,plain,engaged,bearded,bald,infatuated\n",
      "\n",
      "woman: -------------\n",
      "lovely,widow,virtuous,midianitish,israelitish,amiable,whorish,valuable,brawling,canaanitish,delightful,pleasant,ethiopian,menstruous,travailing,fruit,delicate,domestic,fateful,milk,freckled,seemed,sweet,ideal,rebellious,pernicious,capricious,reasonable,adulterous,divine,odd,luckiest,scolding,dusky,horse,murdered,gingerbread,pays,cursed,conscientious,vulgar,low,behaved,pretty,homely,ridiculous,muscled,removed,gracious,divorced,thin,deserving,slumbering,unaffected,grown,fashionable,insufferable,frivolous,odious,splendid,bred,trembling,barren,strange,charming,fine,beautiful,common,fair,silly,angry,proud,fortunate,friendliest,handsome,noblest,suffering,stout,unmarried,elegant,living,arrogant,vain,superbest,contentious,hebrew,younger,happier,artful,tempered,excellent,natured,fat,decent,wretched,older,single,elderly,respectable,poor\n",
      "\n",
      "-------------------------------------\n",
      "BROWN CORPUS\n",
      "-------------------------------------\n",
      "\n",
      "\n",
      "man: -------------\n",
      "big,fat,good,little,white,common,dead,thin,insurance,business,great,honest,best,learned,blind,station,tall,waspish,third,paunchy,interior,mystery,technical,first,leading,inner,handsome,bogy,personnel,sick,ordinary,hired,organization,younger,fighting,orderly,crawling,shop,parker,help,cruiser,german,fingerprint,contemporary,violent,oldest,staff,observant,ladies',black,easy,dartmouth,inferior,virtuous,starving,rescue,maryed,puffy,dark,stout,wealthy,wise,frightening,bigger,moody,loose-jowled,pint-sized,impressive,inviting,youngish,busiest,gifted,middle-class,smithfield,specific,right-hand,reasonable,popular,unfettered,nice,healthy,insane,smaller,full-grown,scanty,magnificent,obsolete,elderly,slow-scrambling,hamper,living,handless,fourth,frightened,literate,loud-voiced,research,safety,crisis,wide-shouldered\n",
      "\n",
      "woman: -------------\n",
      "pink,lonely,strong,blackwell,shapely,remarkable,japanese,scheming,irritable,murdered,bespectacled,aggressive,aged,pale,frightful,jacobs,paranoid,godless,lean,unhappy,father's,indian,attractive,excited,surprised,unbalanced,poor,lanky,hand-covered,evil,scrawny,shriveled,cleaning,freshman,defenseless,protestant,hard,island,red-blooded,large,bouvardier,barren,plump,veracious,strange,american,beautiful,intelligent,older,quiet,another,modern,gray-haired,hebephrenic,wrong,small,every,old,young,middle-aged,one\n",
      "\n",
      "-------------------------------------\n",
      "Web Text Corpus\n",
      "-------------------------------------\n",
      "\n",
      "\n",
      "man: -------------\n",
      "hey,yeah,good,vendor,yarmulke,shit,nah,peanut,overexcited,deli,know,bar,small,polish,york,hippie,hasidic,squad,naw,professor,snapple,earth,busy,vietnamese,better,rich,ohhh,sorry,shoeshine,...,lucky,compassionate,fucking,lawyer,home,best,luckiest,gross,indian,got,ass,prettiest,unidentifed,carried,healthy,honest,jesus,little,peaceful,innocent,gay,touristy,dead,employed,coalition,irate,dirty,history,mystic,tax,anymore,bearded,flustered,normal,aww,director,blind,homeless,american,every,large,white,old,older,married,wasp,nice,crazy,black,thirtysomething,french,ghetto,tourist,young,chinese,real,one,another,store,dressed,italian,aged,british,elderly,southern,drunk\n",
      "\n",
      "woman: -------------\n",
      "island,yuppie,younger,asian,sober,jappy,pregnant,beautiful,design,business,caribbean,passionate,dmv,past,trendy,street,mature,sassy,ues,caring,chugger,frazzled,tough,show,tiny,build,crying,eccentric,aussie,nurse,latino,frustrated,obese,orthodox,jewish,driver,unidentified,twentysomething,seeks,famous,figured,fat,ticket,screaming,wheelchair,ugly,jamaican,intimate,nervous,professional,mta,average,drunk,southern,elderly,aged,british,italian,chinese,one,another,dressed,store,real,young,tourist,ghetto,french,thirtysomething,black,crazy,married,wasp,nice,older,old,white,every,large,american,homeless,blind\n"
     ]
    }
   ],
   "source": [
    "\n",
    "def most_significant(groups, limit=10):\n",
    "    \"\"\" Sorts adjectives in each group with most significant for the group first\n",
    "    \n",
    "        most significant means occurring in the group more often than in the whole corpus\n",
    "        significance ranges from [0 to 1], 1 meaning that the adjective doesn't exist anywhere else but in this group\n",
    "        NOTE: if two words have the same significance then the one occurring more often is more significant\n",
    "    \"\"\"\n",
    "    dfs = [pd.DataFrame(group, columns=['word', 'counts']) for group in groups]\n",
    "    dfs = [df.set_index('word') for df in dfs]\n",
    "    \n",
    "    #     adjustment is required to remove bias caused by some groups being more populous\n",
    "    biggest_count = max([sum(df.counts) for df in dfs])\n",
    "    dfs = [df*biggest_count/sum(df.counts) for df in dfs]\n",
    "    \n",
    "    total = reduce(lambda x,y: x.add(y, fill_value=0), dfs)\n",
    "    for df in dfs:\n",
    "        df['ratio'] = df/total\n",
    "        \n",
    "    sigs = [df.dropna().to_records().tolist() for df in dfs]\n",
    "    sorted_sigs = [ sorted(sig, key=lambda x: (x[2],x[1]), reverse=True) for sig in sigs ]\n",
    "    return [ sig[:limit] for sig in sorted_sigs ]\n",
    "    \n",
    "\n",
    "for corpus, corpus_most_common in zip(corpuses, most_common):\n",
    "    print \"\\n-------------------------------------\\n{}\\n-------------------------------------\\n\".format(corpus.readme().split('\\n')[0])\n",
    "    for word, word_most_significant in zip(words, most_significant(corpus_most_common, limit=100)):\n",
    "#         print \"\\n{}: -------------\\n{}\".format(word, word_most_significant)\n",
    "            print \"\\n{}: -------------\\n{}\".format(word, \",\".join(map(lambda x: x[0], word_most_significant)))\n"
   ]
  }
 ],
 "metadata": {
  "kernelspec": {
   "display_name": "Python 2",
   "language": "python",
   "name": "python2"
  },
  "language_info": {
   "codemirror_mode": {
    "name": "ipython",
    "version": 2
   },
   "file_extension": ".py",
   "mimetype": "text/x-python",
   "name": "python",
   "nbconvert_exporter": "python",
   "pygments_lexer": "ipython2",
   "version": "2.7.10"
  }
 },
 "nbformat": 4,
 "nbformat_minor": 0
}
