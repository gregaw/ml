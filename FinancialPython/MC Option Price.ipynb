{
 "cells": [
  {
   "cell_type": "code",
   "execution_count": 163,
   "metadata": {
    "collapsed": false
   },
   "outputs": [
    {
     "name": "stdout",
     "output_type": "stream",
     "text": [
      "Populating the interactive namespace from numpy and matplotlib\n",
      "line_width has been deprecated, use display.width instead (currently both are\n",
      "identical)\n",
      "\n"
     ]
    },
    {
     "name": "stderr",
     "output_type": "stream",
     "text": [
      "WARNING: pylab import has clobbered these variables: ['frange', 'mat']\n",
      "`%matplotlib` prevents importing * from pylab and numpy\n"
     ]
    }
   ],
   "source": [
    "# The usual preamble\n",
    "import pandas as pd\n",
    "import numpy as np\n",
    "import pandas_datareader.data as web\n",
    "\n",
    "%pylab inline\n",
    "# Make the graphs a bit prettier, and bigger\n",
    "pd.set_option('display.mpl_style', 'default') \n",
    "pd.set_option('display.line_width', 5000) \n",
    "pd.set_option('display.max_columns', 60) "
   ]
  },
  {
   "cell_type": "code",
   "execution_count": 164,
   "metadata": {
    "collapsed": true
   },
   "outputs": [],
   "source": [
    "start, end = datetime.datetime(2010,1,1), datetime.datetime(2011,1,1)\n",
    "ford = web.DataReader('F', 'yahoo', start, end)"
   ]
  },
  {
   "cell_type": "code",
   "execution_count": 165,
   "metadata": {
    "collapsed": false
   },
   "outputs": [
    {
     "data": {
      "text/html": [
       "<div>\n",
       "<table border=\"1\" class=\"dataframe\">\n",
       "  <thead>\n",
       "    <tr style=\"text-align: right;\">\n",
       "      <th></th>\n",
       "      <th>Open</th>\n",
       "      <th>High</th>\n",
       "      <th>Low</th>\n",
       "      <th>Close</th>\n",
       "      <th>Volume</th>\n",
       "      <th>Adj Close</th>\n",
       "    </tr>\n",
       "    <tr>\n",
       "      <th>Date</th>\n",
       "      <th></th>\n",
       "      <th></th>\n",
       "      <th></th>\n",
       "      <th></th>\n",
       "      <th></th>\n",
       "      <th></th>\n",
       "    </tr>\n",
       "  </thead>\n",
       "  <tbody>\n",
       "    <tr>\n",
       "      <th>2010-01-04</th>\n",
       "      <td>10.17</td>\n",
       "      <td>10.28</td>\n",
       "      <td>10.05</td>\n",
       "      <td>10.28</td>\n",
       "      <td>60855800</td>\n",
       "      <td>8.418735</td>\n",
       "    </tr>\n",
       "    <tr>\n",
       "      <th>2010-01-05</th>\n",
       "      <td>10.45</td>\n",
       "      <td>11.24</td>\n",
       "      <td>10.40</td>\n",
       "      <td>10.96</td>\n",
       "      <td>215620200</td>\n",
       "      <td>8.975616</td>\n",
       "    </tr>\n",
       "    <tr>\n",
       "      <th>2010-01-06</th>\n",
       "      <td>11.21</td>\n",
       "      <td>11.46</td>\n",
       "      <td>11.13</td>\n",
       "      <td>11.37</td>\n",
       "      <td>200070600</td>\n",
       "      <td>9.311383</td>\n",
       "    </tr>\n",
       "    <tr>\n",
       "      <th>2010-01-07</th>\n",
       "      <td>11.46</td>\n",
       "      <td>11.69</td>\n",
       "      <td>11.32</td>\n",
       "      <td>11.66</td>\n",
       "      <td>130201700</td>\n",
       "      <td>9.548876</td>\n",
       "    </tr>\n",
       "    <tr>\n",
       "      <th>2010-01-08</th>\n",
       "      <td>11.67</td>\n",
       "      <td>11.74</td>\n",
       "      <td>11.46</td>\n",
       "      <td>11.69</td>\n",
       "      <td>130463000</td>\n",
       "      <td>9.573444</td>\n",
       "    </tr>\n",
       "  </tbody>\n",
       "</table>\n",
       "</div>"
      ],
      "text/plain": [
       "             Open   High    Low  Close     Volume  Adj Close\n",
       "Date                                                        \n",
       "2010-01-04  10.17  10.28  10.05  10.28   60855800   8.418735\n",
       "2010-01-05  10.45  11.24  10.40  10.96  215620200   8.975616\n",
       "2010-01-06  11.21  11.46  11.13  11.37  200070600   9.311383\n",
       "2010-01-07  11.46  11.69  11.32  11.66  130201700   9.548876\n",
       "2010-01-08  11.67  11.74  11.46  11.69  130463000   9.573444"
      ]
     },
     "execution_count": 165,
     "metadata": {},
     "output_type": "execute_result"
    }
   ],
   "source": [
    "ford.head()"
   ]
  },
  {
   "cell_type": "code",
   "execution_count": 166,
   "metadata": {
    "collapsed": false
   },
   "outputs": [
    {
     "data": {
      "text/plain": [
       "Date\n",
       "2010-01-04         NaN\n",
       "2010-01-05    0.064052\n",
       "2010-01-06    0.036726\n",
       "2010-01-07    0.025186\n",
       "2010-01-08    0.002570\n",
       "Name: Close, dtype: float64"
      ]
     },
     "execution_count": 166,
     "metadata": {},
     "output_type": "execute_result"
    }
   ],
   "source": [
    "log_returns = np.log(ford['Close'] / ford['Close'].shift(1))\n",
    "log_returns.head()"
   ]
  },
  {
   "cell_type": "code",
   "execution_count": 167,
   "metadata": {
    "collapsed": false
   },
   "outputs": [
    {
     "name": "stdout",
     "output_type": "stream",
     "text": [
      "0.492537785644\n"
     ]
    }
   ],
   "source": [
    "mu = log_returns.mean() * 252\n",
    "print mu"
   ]
  },
  {
   "cell_type": "code",
   "execution_count": 168,
   "metadata": {
    "collapsed": false,
    "scrolled": true
   },
   "outputs": [
    {
     "name": "stdout",
     "output_type": "stream",
     "text": [
      "0.38105389218\n"
     ]
    }
   ],
   "source": [
    "sigma = log_returns.std() * 252 ** 0.5\n",
    "print sigma"
   ]
  },
  {
   "cell_type": "code",
   "execution_count": 169,
   "metadata": {
    "collapsed": false
   },
   "outputs": [
    {
     "data": {
      "text/plain": [
       "0.32734658777314912"
      ]
     },
     "execution_count": 169,
     "metadata": {},
     "output_type": "execute_result"
    }
   ],
   "source": [
    "def option_price(K, T, S0, r, sigma, sim_count, payoff, dt = (1.0 / 365)):\n",
    "\n",
    "    sim_length = int(T/dt) # in days\n",
    "\n",
    "    rand = np.random.standard_normal((sim_length,sim_count))\n",
    "    sims = np.zeros_like(rand)\n",
    "    sims[0] = S0\n",
    "\n",
    "    for t in xrange(1,sim_length):\n",
    "        sims[t] = sims[t-1] * np.exp((r - 0.5 * sigma ** 2) * dt + sigma * dt ** 0.5 * rand[t])\n",
    "\n",
    "    price = np.exp(-r * T) * ( payoff(sims, K).sum() / sim_count )\n",
    "    \n",
    "    return price\n",
    "\n",
    "payoff_euro_call = lambda sims, K: np.maximum(sims[-1]-K, 0)\n",
    "payoff_euro_put = lambda sims, K: np.maximum(K-sims[-1], 0)\n",
    "payoff_digital_call = lambda sims, K: np.maximum(np.sign(sims[-1]-K), 0)\n",
    "payoff_digital_put = lambda sims, K: np.maximum(np.sign(K-sims[-1]), 0)\n",
    "\n",
    "p = option_price(\n",
    "    K = 13,\n",
    "    T = 1.0/52,\n",
    "    S0 = 13.13,\n",
    "    r = 0.02, # risk-free rate\n",
    "    sigma = sigma,\n",
    "    payoff = payoff_euro_call,\n",
    "    sim_count = 10000\n",
    ")\n",
    "p\n"
   ]
  },
  {
   "cell_type": "code",
   "execution_count": 170,
   "metadata": {
    "collapsed": false
   },
   "outputs": [
    {
     "data": {
      "text/plain": [
       "<matplotlib.axes._subplots.AxesSubplot at 0x10df65450>"
      ]
     },
     "execution_count": 170,
     "metadata": {},
     "output_type": "execute_result"
    },
    {
     "data": {
      "image/png": "[encoded data removed]",
      "text/plain": [
       "<matplotlib.figure.Figure at 0x10dfd3150>"
      ]
     },
     "metadata": {},
     "output_type": "display_data"
    }
   ],
   "source": [
    "def frange(a,b,step):\n",
    "    while a<b:\n",
    "        yield a\n",
    "        a+= step\n",
    "\n",
    "sims = 10000\n",
    "K = 13.13\n",
    "mat = 1.0/52\n",
    "hockey = pd.DataFrame([(s, \n",
    "                        option_price(K, mat, s, 0.01, sigma, sims, payoff_euro_call),\n",
    "#                         option_price(K, mat, s, 0.01, sigma, sims, payoff_digital_call),\n",
    "                        option_price(K, mat, s, 0.01, sigma, sims, payoff_digital_put),\n",
    "#                         option_price(K, mat, s, 0.01, sigma/10, sims, payoff_digital_call),\n",
    "#                         option_price(K, mat, s, 0.01, sigma, sims, payoff_euro_put),\n",
    "#                         option_price(K, mat, s, 0.01, sigma, sims/100, payoff_euro_call),\n",
    "#                         option_price(K, mat, s, 0.01, sigma/2, sims, payoff_euro_call),\n",
    "#                         option_price(K, 2*mat, s, 0.01, sigma, sims, payoff_euro_call),\n",
    "#                         option_price(K, mat, s, 0.1, sigma, sims, payoff_euro_call),\n",
    "                        np.maximum(s-K, 0), \n",
    "                       ) for s in frange(K-2,K+2,0.25)], \n",
    "                      columns=['S','p','modified p', 'basis'])\n",
    "hockey.set_index(['S'], inplace=True, drop=True)\n",
    "hockey.plot()"
   ]
  }
 ],
 "metadata": {
  "kernelspec": {
   "display_name": "Python 2",
   "language": "python",
   "name": "python2"
  },
  "language_info": {
   "codemirror_mode": {
    "name": "ipython",
    "version": 2
   },
   "file_extension": ".py",
   "mimetype": "text/x-python",
   "name": "python",
   "nbconvert_exporter": "python",
   "pygments_lexer": "ipython2",
   "version": "2.7.10"
  }
 },
 "nbformat": 4,
 "nbformat_minor": 0
}
